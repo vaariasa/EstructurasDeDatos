{
  "nbformat": 4,
  "nbformat_minor": 0,
  "metadata": {
    "colab": {
      "name": "Untitled0.ipynb",
      "provenance": [],
      "toc_visible": true,
      "authorship_tag": "ABX9TyMxhjpPch6cHIFpcazkAiWt",
      "include_colab_link": true
    },
    "kernelspec": {
      "name": "python3",
      "display_name": "Python 3"
    }
  },
  "cells": [
    {
      "cell_type": "markdown",
      "metadata": {
        "id": "view-in-github",
        "colab_type": "text"
      },
      "source": [
        "<a href=\"https://colab.research.google.com/github/vaariasa/senalesysistemas/blob/master/Untitled0.ipynb\" target=\"_parent\"><img src=\"https://colab.research.google.com/assets/colab-badge.svg\" alt=\"Open In Colab\"/></a>"
      ]
    },
    {
      "cell_type": "markdown",
      "metadata": {
        "id": "4YTfsfqZfjd2",
        "colab_type": "text"
      },
      "source": [
        "señales y sistemas parcial 1\n",
        "1. fgdae"
      ]
    },
    {
      "cell_type": "code",
      "metadata": {
        "id": "ohtfzOnrhdN4",
        "colab_type": "code",
        "colab": {}
      },
      "source": [
        "#no se"
      ],
      "execution_count": 0,
      "outputs": []
    }
  ]
}