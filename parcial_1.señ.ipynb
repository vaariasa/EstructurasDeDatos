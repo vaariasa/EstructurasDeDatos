{
  "nbformat": 4,
  "nbformat_minor": 0,
  "metadata": {
    "colab": {
      "name": "Untitled0.ipynb",
      "provenance": [],
      "authorship_tag": "ABX9TyPmYTZYd3HQZE9iV5C9hvTD",
      "include_colab_link": true
    },
    "kernelspec": {
      "name": "python3",
      "display_name": "Python 3"
    }
  },
  "cells": [
    {
      "cell_type": "markdown",
      "metadata": {
        "id": "view-in-github",
        "colab_type": "text"
      },
      "source": [
        "<a href=\"https://colab.research.google.com/github/vaariasa/senalesysistemas/blob/master/parcial_1.se%C3%B1.ipynb\" target=\"_parent\"><img src=\"https://colab.research.google.com/assets/colab-badge.svg\" alt=\"Open In Colab\"/></a>"
      ]
    },
    {
      "cell_type": "markdown",
      "metadata": {
        "id": "4YTfsfqZfjd2",
        "colab_type": "text"
      },
      "source": [
        "#Taller/Parcial_1: Señales y sistemas 2020-1\n",
        "Valentina Arias Arias.\n",
        "\n",
        "Universidad Nacional de Colombia- sede Manizales"
      ]
    },
    {
      "cell_type": "markdown",
      "metadata": {
        "id": "4PtJBcobXWZS",
        "colab_type": "text"
      },
      "source": [
        "2. **Conceptos básicos de señales**\n",
        "\n",
        "– Evaluar la expresión $\\int_{-\\infty}^{\\infty}t^2e^{-\\sin(t)}\n",
        "\\cos(2t)\\delta(2t − 2\\pi)dt$.\n",
        " Comprobar el resultado en simulacion con la librería SymPy.\n",
        "\n",
        " **Solucion:**\n",
        "\n",
        "$I= \\int_{-\\infty}^{\\infty}t^2e^{-\\sin(t)}\n",
        "\\cos(2t)\\delta(2t − 2\\pi)dt$\n",
        "\n",
        "$I= \\int_{-\\infty}^{\\infty}t^2e^{-\\sin(t)}\n",
        "\\cos(2t)\\delta(2[t − \\pi])dt$\n",
        "\n",
        "Por la propiedad de escalamiento:\n",
        "\n",
        "$I= \\frac{1}{|2|}\\int_{-\\infty}^{\\infty}t^2e^{-\\sin(t)}\\cos(2t)\\delta(t − \\pi)dt$\n",
        "\n",
        "Como $\\delta(t − \\pi)$ se aciva en \\pi, entonces:\n",
        "\n",
        "$I= \\frac{x(\\pi)}{2}$\n",
        "\n",
        "$= \\frac{1}{2}\\pi^2e^{-\\sin(\\pi)}\\cos(2\\pi)$\n",
        "\n",
        "Donde $\\cos(2\\pi)=1$, $e^{-\\sin(\\pi)}=1$, por lo que:\n",
        "\n",
        "$$I= \\frac{1}{2}\\pi^2$$\n",
        "\n",
        "\n"
      ]
    },
    {
      "cell_type": "code",
      "metadata": {
        "id": "jp0LguVMim3j",
        "colab_type": "code",
        "outputId": "fcdc2776-f46e-4b59-c201-7ad25f94709f",
        "colab": {
          "base_uri": "https://localhost:8080/",
          "height": 51
        }
      },
      "source": [
        "!pip install sympy"
      ],
      "execution_count": 0,
      "outputs": [
        {
          "output_type": "stream",
          "text": [
            "Requirement already satisfied: sympy in /usr/local/lib/python3.6/dist-packages (1.1.1)\n",
            "Requirement already satisfied: mpmath>=0.19 in /usr/local/lib/python3.6/dist-packages (from sympy) (1.1.0)\n"
          ],
          "name": "stdout"
        }
      ]
    },
    {
      "cell_type": "code",
      "metadata": {
        "id": "XpI-T1g3mFYT",
        "colab_type": "code",
        "outputId": "32919ff6-1803-4d1f-ec8a-ebb2c238bce9",
        "colab": {
          "base_uri": "https://localhost:8080/",
          "height": 34
        }
      },
      "source": [
        "import sympy as sym\n",
        "sym.init_printing()\n",
        "\n",
        "delta = sym.DiracDelta(2*(t-sym.pi))\n",
        "f= sym.Function('f')(t)\n",
        "f= t**(2)*sym.exp(-sym.sin(t))*sym.cos(2*t)\n",
        "sym.integrate(delta*f, (t, -sym.oo, sym.oo))"
      ],
      "execution_count": 0,
      "outputs": [
        {
          "output_type": "execute_result",
          "data": {
            "image/png": "[encoded data removed]",
            "text/latex": "$$\\frac{\\pi^{2}}{2}$$",
            "text/plain": [
              " 2\n",
              "π \n",
              "──\n",
              "2 "
            ]
          },
          "metadata": {
            "tags": []
          },
          "execution_count": 28
        }
      ]
    },
    {
      "cell_type": "markdown",
      "metadata": {
        "id": "EDi-eTWsnzxk",
        "colab_type": "text"
      },
      "source": [
        "$$\\frac{\\pi^{2}}{2}$$"
      ]
    },
    {
      "cell_type": "markdown",
      "metadata": {
        "id": "RDKFpBu2u9A0",
        "colab_type": "text"
      },
      "source": [
        "– Sea $x(t) = u(t−to)−u(t−nto)−kδ(t−mto)$. Determine\n",
        "el valor de k para el cual $\\int_{-\\infty}^{\\infty}x(t)dt = 0$. Comprobar el\n",
        "resultado en simulacion con la librería SymPy.\n",
        "\n",
        "**Solucion:**\n",
        "\n",
        "\n",
        "$0= \\int_{-\\infty}^{\\infty} u(t−to)−u(t−nto)−kδ(t−mto)dt$\n",
        "\n",
        "$0= \\int_{-\\infty}^{\\infty} u(t−to)−u(t−nto)dt−k\\int_{-\\infty}^{\\infty}δ(t−mto)dt$\n",
        "\n",
        "$0= \\int_{t_0}^{nt_0}dt-k$\n",
        "\n",
        "$0= t\\Biggr|_{t_0}^{nt_0}-k$\n",
        "\n",
        "$$k= nt_0-t_0$$\n",
        "\n",
        "\n",
        "\n"
      ]
    },
    {
      "cell_type": "code",
      "metadata": {
        "id": "elr2tQ0X8jrA",
        "colab_type": "code",
        "outputId": "3b68175c-c495-4ff0-cbeb-c1e87305fe3f",
        "colab": {
          "base_uri": "https://localhost:8080/",
          "height": 34
        }
      },
      "source": [
        "import sympy as sym\n",
        "to = sym.symbols('to ', real=True)\n",
        "nto = sym.symbols('nto ', real=True)\n",
        "mto = sym.symbols('mto ', real=True)\n",
        "t = sym.symbols('t ', real=True)\n",
        "k = sym.symbols('k ', real=True)\n",
        "delta= sym.DiracDelta(t-mto)\n",
        "f= sym.Function('f')(t)\n",
        "a= sym.integrate(1,(t,to,nto))\n",
        "a-sym.integrate(k*delta, (t, -sym.oo, sym.oo))"
      ],
      "execution_count": 0,
      "outputs": [
        {
          "output_type": "execute_result",
          "data": {
            "image/png": "[encoded data removed]",
            "text/latex": "$$- k + nto - to$$",
            "text/plain": [
              "-k + nto - to"
            ]
          },
          "metadata": {
            "tags": []
          },
          "execution_count": 59
        }
      ]
    },
    {
      "cell_type": "markdown",
      "metadata": {
        "id": "8TC5a45H9lDM",
        "colab_type": "text"
      },
      "source": [
        "$$- k + nto - to$$\n",
        "por lo que se comprueba que $k=nto-to$"
      ]
    },
    {
      "cell_type": "markdown",
      "metadata": {
        "id": "R9U3K9d2RutW",
        "colab_type": "text"
      },
      "source": [
        ""
      ]
    }
  ]
}